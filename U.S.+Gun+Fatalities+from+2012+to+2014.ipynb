{
 "cells": [
  {
   "cell_type": "markdown",
   "metadata": {},
   "source": [
    "US Gun Deaths 2012 to 2014"
   ]
  },
  {
   "cell_type": "markdown",
   "metadata": {},
   "source": [
    "- This project is based on gun-related fatalities from 2012 to 2014. The data set can be found here: https://github.com/fivethirtyeight/guns-data."
   ]
  },
  {
   "cell_type": "markdown",
   "metadata": {},
   "source": [
    "- Here, I'm reading the data set into a list of lists using the csv module and\n",
    "view the first 5 rows of data."
   ]
  },
  {
   "cell_type": "code",
   "execution_count": 1,
   "metadata": {
    "collapsed": false
   },
   "outputs": [
    {
     "name": "stdout",
     "output_type": "stream",
     "text": [
      "[['', 'year', 'month', 'intent', 'police', 'sex', 'age', 'race', 'hispanic', 'place', 'education'], ['1', '2012', '01', 'Suicide', '0', 'M', '34', 'Asian/Pacific Islander', '100', 'Home', '4'], ['2', '2012', '01', 'Suicide', '0', 'F', '21', 'White', '100', 'Street', '3'], ['3', '2012', '01', 'Suicide', '0', 'M', '60', 'White', '100', 'Other specified', '4']]\n"
     ]
    }
   ],
   "source": [
    "import csv\n",
    "f = open('guns.csv', 'r')\n",
    "csvreader = csv.reader(f)\n",
    "data = list(csvreader)\n",
    "print(data[0:4])"
   ]
  },
  {
   "cell_type": "markdown",
   "metadata": {},
   "source": [
    "- The next step is to remove the header from the rest of the data set. This is done to prevent the header row from being read as a data point."
   ]
  },
  {
   "cell_type": "code",
   "execution_count": 2,
   "metadata": {
    "collapsed": false
   },
   "outputs": [
    {
     "name": "stdout",
     "output_type": "stream",
     "text": [
      "['', 'year', 'month', 'intent', 'police', 'sex', 'age', 'race', 'hispanic', 'place', 'education']\n",
      "[['1', '2012', '01', 'Suicide', '0', 'M', '34', 'Asian/Pacific Islander', '100', 'Home', '4'], ['2', '2012', '01', 'Suicide', '0', 'F', '21', 'White', '100', 'Street', '3'], ['3', '2012', '01', 'Suicide', '0', 'M', '60', 'White', '100', 'Other specified', '4'], ['4', '2012', '02', 'Suicide', '0', 'M', '64', 'White', '100', 'Home', '4']]\n"
     ]
    }
   ],
   "source": [
    "headers = data[0]\n",
    "data = data[1:]\n",
    "print(headers)\n",
    "print(data[0:4])"
   ]
  },
  {
   "cell_type": "markdown",
   "metadata": {},
   "source": [
    "- Now, I'm determining how many gun-related fatalities happened each year."
   ]
  },
  {
   "cell_type": "code",
   "execution_count": 3,
   "metadata": {
    "collapsed": false,
    "scrolled": true
   },
   "outputs": [
    {
     "name": "stdout",
     "output_type": "stream",
     "text": [
      "{'2014': 33599, '2012': 33563, '2013': 33636}\n"
     ]
    }
   ],
   "source": [
    "years = (row[1] for row in data)\n",
    "\n",
    "year_counts = {}\n",
    "for r in years:\n",
    "    if r in year_counts:\n",
    "        year_counts[r] = year_counts[r] + 1\n",
    "    else:\n",
    "        year_counts[r] = 1\n",
    "\n",
    "print(year_counts)\n",
    "\n"
   ]
  },
  {
   "cell_type": "markdown",
   "metadata": {},
   "source": [
    "- Using the datetime object and list comprehension to save room, I'm able to see how many fatalities happened  each for every unique day in the data set. I have to first make sure the year and month columns are integers before the datetime class can identify them."
   ]
  },
  {
   "cell_type": "code",
   "execution_count": 4,
   "metadata": {
    "collapsed": false,
    "scrolled": true
   },
   "outputs": [
    {
     "name": "stdout",
     "output_type": "stream",
     "text": [
      "[datetime.datetime(2012, 1, 1, 0, 0), datetime.datetime(2012, 1, 1, 0, 0), datetime.datetime(2012, 1, 1, 0, 0), datetime.datetime(2012, 2, 1, 0, 0), datetime.datetime(2012, 2, 1, 0, 0)]\n",
      "{datetime.datetime(2012, 2, 1, 0, 0): 2357, datetime.datetime(2013, 8, 1, 0, 0): 2859, datetime.datetime(2013, 5, 1, 0, 0): 2806, datetime.datetime(2012, 6, 1, 0, 0): 2826, datetime.datetime(2012, 11, 1, 0, 0): 2729, datetime.datetime(2014, 12, 1, 0, 0): 2857, datetime.datetime(2012, 12, 1, 0, 0): 2791, datetime.datetime(2013, 10, 1, 0, 0): 2808, datetime.datetime(2014, 8, 1, 0, 0): 2970, datetime.datetime(2012, 8, 1, 0, 0): 2954, datetime.datetime(2012, 3, 1, 0, 0): 2743, datetime.datetime(2013, 7, 1, 0, 0): 3079, datetime.datetime(2013, 1, 1, 0, 0): 2864, datetime.datetime(2012, 5, 1, 0, 0): 2999, datetime.datetime(2013, 4, 1, 0, 0): 2798, datetime.datetime(2014, 7, 1, 0, 0): 2884, datetime.datetime(2014, 11, 1, 0, 0): 2756, datetime.datetime(2014, 2, 1, 0, 0): 2361, datetime.datetime(2012, 9, 1, 0, 0): 2852, datetime.datetime(2013, 3, 1, 0, 0): 2862, datetime.datetime(2013, 12, 1, 0, 0): 2765, datetime.datetime(2013, 6, 1, 0, 0): 2920, datetime.datetime(2012, 10, 1, 0, 0): 2733, datetime.datetime(2014, 5, 1, 0, 0): 2864, datetime.datetime(2014, 1, 1, 0, 0): 2651, datetime.datetime(2014, 4, 1, 0, 0): 2862, datetime.datetime(2013, 9, 1, 0, 0): 2742, datetime.datetime(2012, 1, 1, 0, 0): 2758, datetime.datetime(2014, 3, 1, 0, 0): 2684, datetime.datetime(2012, 4, 1, 0, 0): 2795, datetime.datetime(2013, 11, 1, 0, 0): 2758, datetime.datetime(2014, 9, 1, 0, 0): 2914, datetime.datetime(2013, 2, 1, 0, 0): 2375, datetime.datetime(2014, 6, 1, 0, 0): 2931, datetime.datetime(2012, 7, 1, 0, 0): 3026, datetime.datetime(2014, 10, 1, 0, 0): 2865}\n"
     ]
    }
   ],
   "source": [
    "import datetime\n",
    "dates = [datetime.datetime(year = int(row[1]), month = int(row[2]), day = 1) for row in data]\n",
    "print(dates[:5])\n",
    "\n",
    "date_counts = {}\n",
    "for date in dates:\n",
    "    if date in date_counts:\n",
    "        date_counts[date] += 1\n",
    "    else:\n",
    "        date_counts[date] = 1\n",
    "\n",
    "print(date_counts)\n"
   ]
  },
  {
   "cell_type": "markdown",
   "metadata": {},
   "source": [
    "- The next step is to find the fatalities listed per gender, and per race."
   ]
  },
  {
   "cell_type": "code",
   "execution_count": 5,
   "metadata": {
    "collapsed": false
   },
   "outputs": [
    {
     "name": "stdout",
     "output_type": "stream",
     "text": [
      "{'M': 86349, 'F': 14449}\n",
      "{'Native American/Native Alaskan': 917, 'Hispanic': 9022, 'White': 66237, 'Asian/Pacific Islander': 1326, 'Black': 23296}\n"
     ]
    }
   ],
   "source": [
    "sexes = [row[5] for row in data]\n",
    "races = [row[7] for row in data]\n",
    "sex_counts = {}\n",
    "race_counts = {}\n",
    "\n",
    "for s in sexes:\n",
    "    if s not in sex_counts:\n",
    "        sex_counts[s] = 0\n",
    "    sex_counts[s] += 1\n",
    "        \n",
    "for r in races:\n",
    "    if r not in race_counts:\n",
    "        race_counts[r] = 0\n",
    "    race_counts[r] += 1\n",
    "\n",
    "print(sex_counts)\n",
    "print(race_counts)\n"
   ]
  },
  {
   "cell_type": "markdown",
   "metadata": {},
   "source": [
    "What we've found so far:"
   ]
  },
  {
   "cell_type": "markdown",
   "metadata": {},
   "source": [
    "- Gun deaths in the US seem to affect men men to a higher degree than women. The same case goes for minorities affected as well, although having some data on the percentage of each race in the overall US population would give us more insight.\n",
    "\n",
    "- There appears to be a minor seasonal correlation, with gun deaths peaking in the summer and declining in the winter. It might be useful to filter by intent, to see if different categories of intent have different correlations with season, race, or gender.\n"
   ]
  },
  {
   "cell_type": "markdown",
   "metadata": {},
   "source": [
    "Reading in a census data set:"
   ]
  },
  {
   "cell_type": "code",
   "execution_count": 6,
   "metadata": {
    "collapsed": false,
    "scrolled": true
   },
   "outputs": [
    {
     "data": {
      "text/plain": [
       "[['Id',\n",
       "  'Year',\n",
       "  'Id',\n",
       "  'Sex',\n",
       "  'Id',\n",
       "  'Hispanic Origin',\n",
       "  'Id',\n",
       "  'Id2',\n",
       "  'Geography',\n",
       "  'Total',\n",
       "  'Race Alone - White',\n",
       "  'Race Alone - Hispanic',\n",
       "  'Race Alone - Black or African American',\n",
       "  'Race Alone - American Indian and Alaska Native',\n",
       "  'Race Alone - Asian',\n",
       "  'Race Alone - Native Hawaiian and Other Pacific Islander',\n",
       "  'Two or More Races'],\n",
       " ['cen42010',\n",
       "  'April 1, 2010 Census',\n",
       "  'totsex',\n",
       "  'Both Sexes',\n",
       "  'tothisp',\n",
       "  'Total',\n",
       "  '0100000US',\n",
       "  '',\n",
       "  'United States',\n",
       "  '308745538',\n",
       "  '197318956',\n",
       "  '44618105',\n",
       "  '40250635',\n",
       "  '3739506',\n",
       "  '15159516',\n",
       "  '674625',\n",
       "  '6984195']]"
      ]
     },
     "execution_count": 6,
     "metadata": {},
     "output_type": "execute_result"
    }
   ],
   "source": [
    "c = open('census.csv', 'r')\n",
    "csvreader = csv.reader(c)\n",
    "census = list(csvreader)\n",
    "census"
   ]
  },
  {
   "cell_type": "markdown",
   "metadata": {},
   "source": [
    "- While having the total census numbers per race is helpful for the analysis, we would be better off getting the rate of gun fatalities per every 100,000 people of each race."
   ]
  },
  {
   "cell_type": "markdown",
   "metadata": {},
   "source": [
    "- In the first block below, I'm mapping the races in the census data set to the races determined in race_counts, which were provided in the gun fatality data set. \n",
    "\n",
    "- The second block returns the rate of gun fatalities per 100,000 people in each race by dividing the total number of fatalities by the population of each race, then multiplying it by 100,000."
   ]
  },
  {
   "cell_type": "code",
   "execution_count": 7,
   "metadata": {
    "collapsed": false,
    "scrolled": true
   },
   "outputs": [
    {
     "name": "stdout",
     "output_type": "stream",
     "text": [
      "{'Native American/Native Alaskan': 24.521955573811088, 'Hispanic': 20.220491210910907, 'Asian/Pacific Islander': 8.374309664161762, 'White': 33.56849303419181, 'Black': 57.8773477735196}\n"
     ]
    }
   ],
   "source": [
    "mapping = {\n",
    "    \"Asian/Pacific Islander\": 15159516 + 674625,\n",
    "    \"Native American/Native Alaskan\": 3739506,\n",
    "    \"Black\": 40250635,\n",
    "    \"Hispanic\": 44618105,\n",
    "    \"White\": 197318956\n",
    "}\n",
    "\n",
    "race_per_hundredk = {}\n",
    "for k,v in race_counts.items():\n",
    "    race_per_hundredk[k] = (v/mapping[k]) * 100000\n",
    "    \n",
    "print(race_per_hundredk)\n",
    "    "
   ]
  },
  {
   "cell_type": "markdown",
   "metadata": {},
   "source": [
    "- My next step is to take the results above and filter by intent. The intent in this step will specifically be the \"Homicide\" value, located in the fourth column of the gun fatality data set."
   ]
  },
  {
   "cell_type": "code",
   "execution_count": 8,
   "metadata": {
    "collapsed": false
   },
   "outputs": [
    {
     "name": "stdout",
     "output_type": "stream",
     "text": [
      "{'Native American/Native Alaskan': 8.717729026240365, 'Hispanic': 12.627161104219914, 'Asian/Pacific Islander': 3.530346230970155, 'White': 4.6356417981453335, 'Black': 48.471284987180944}\n"
     ]
    }
   ],
   "source": [
    "intent = [row[3] for row in data]\n",
    "races = [row[7] for row in data]\n",
    "homicide_race_counts = {}\n",
    "\n",
    "for i,race in enumerate(races):\n",
    "    if race not in homicide_race_counts:\n",
    "        homicide_race_counts[race] = 0\n",
    "    if intent[i] == \"Homicide\":\n",
    "        homicide_race_counts[race] += 1\n",
    "    \n",
    "race_per_hundredk = {}\n",
    "for k,v in homicide_race_counts.items():\n",
    "    race_per_hundredk[k] = (v/mapping[k]) * 100000\n",
    "    \n",
    "print(race_per_hundredk)\n",
    "    "
   ]
  },
  {
   "cell_type": "markdown",
   "metadata": {
    "collapsed": true
   },
   "source": [
    "- The data analysis shows that gun related homicides in the US disproportionately affect people in the Black and Hispanic racial categories. Next, I'll find the suicide rate per month.\n"
   ]
  },
  {
   "cell_type": "code",
   "execution_count": 11,
   "metadata": {
    "collapsed": false
   },
   "outputs": [
    {
     "data": {
      "text/plain": [
       "{datetime.datetime(2012, 1, 1, 0, 0): 1707,\n",
       " datetime.datetime(2012, 2, 1, 0, 0): 1549,\n",
       " datetime.datetime(2012, 3, 1, 0, 0): 1707,\n",
       " datetime.datetime(2012, 4, 1, 0, 0): 1745,\n",
       " datetime.datetime(2012, 5, 1, 0, 0): 1932,\n",
       " datetime.datetime(2012, 6, 1, 0, 0): 1724,\n",
       " datetime.datetime(2012, 7, 1, 0, 0): 1789,\n",
       " datetime.datetime(2012, 8, 1, 0, 0): 1796,\n",
       " datetime.datetime(2012, 9, 1, 0, 0): 1717,\n",
       " datetime.datetime(2012, 10, 1, 0, 0): 1696,\n",
       " datetime.datetime(2012, 11, 1, 0, 0): 1680,\n",
       " datetime.datetime(2012, 12, 1, 0, 0): 1624,\n",
       " datetime.datetime(2013, 1, 1, 0, 0): 1797,\n",
       " datetime.datetime(2013, 2, 1, 0, 0): 1592,\n",
       " datetime.datetime(2013, 3, 1, 0, 0): 1870,\n",
       " datetime.datetime(2013, 4, 1, 0, 0): 1819,\n",
       " datetime.datetime(2013, 5, 1, 0, 0): 1791,\n",
       " datetime.datetime(2013, 6, 1, 0, 0): 1797,\n",
       " datetime.datetime(2013, 7, 1, 0, 0): 1893,\n",
       " datetime.datetime(2013, 8, 1, 0, 0): 1786,\n",
       " datetime.datetime(2013, 9, 1, 0, 0): 1728,\n",
       " datetime.datetime(2013, 10, 1, 0, 0): 1741,\n",
       " datetime.datetime(2013, 11, 1, 0, 0): 1698,\n",
       " datetime.datetime(2013, 12, 1, 0, 0): 1663,\n",
       " datetime.datetime(2014, 1, 1, 0, 0): 1716,\n",
       " datetime.datetime(2014, 2, 1, 0, 0): 1591,\n",
       " datetime.datetime(2014, 3, 1, 0, 0): 1732,\n",
       " datetime.datetime(2014, 4, 1, 0, 0): 1874,\n",
       " datetime.datetime(2014, 5, 1, 0, 0): 1783,\n",
       " datetime.datetime(2014, 6, 1, 0, 0): 1846,\n",
       " datetime.datetime(2014, 7, 1, 0, 0): 1832,\n",
       " datetime.datetime(2014, 8, 1, 0, 0): 1839,\n",
       " datetime.datetime(2014, 9, 1, 0, 0): 1898,\n",
       " datetime.datetime(2014, 10, 1, 0, 0): 1819,\n",
       " datetime.datetime(2014, 11, 1, 0, 0): 1708,\n",
       " datetime.datetime(2014, 12, 1, 0, 0): 1696}"
      ]
     },
     "execution_count": 11,
     "metadata": {},
     "output_type": "execute_result"
    }
   ],
   "source": [
    "intent = [row[3] for row in data]\n",
    "\n",
    "suicides_per_month = {}\n",
    "\n",
    "for i,date in enumerate(dates):\n",
    "    if date not in suicides_per_month:\n",
    "        suicides_per_month[date] = 0\n",
    "    if intent[i] == \"Suicide\":\n",
    "        suicides_per_month[date] += 1\n",
    "    \n",
    "suicides_per_month"
   ]
  },
  {
   "cell_type": "markdown",
   "metadata": {
    "collapsed": true
   },
   "source": [
    "- Above, the insight we can see is that February has the lowest suicide for gun-related fatalities from 2012 to 2014."
   ]
  }
 ],
 "metadata": {
  "kernelspec": {
   "display_name": "Python 3",
   "language": "python",
   "name": "python3"
  },
  "language_info": {
   "codemirror_mode": {
    "name": "ipython",
    "version": 3
   },
   "file_extension": ".py",
   "mimetype": "text/x-python",
   "name": "python",
   "nbconvert_exporter": "python",
   "pygments_lexer": "ipython3",
   "version": "3.4.3"
  }
 },
 "nbformat": 4,
 "nbformat_minor": 0
}
